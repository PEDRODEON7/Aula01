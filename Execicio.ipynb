{
  "nbformat": 4,
  "nbformat_minor": 0,
  "metadata": {
    "colab": {
      "provenance": [],
      "authorship_tag": "ABX9TyNg0WGqxkkoHVaUsvk8IMyT",
      "include_colab_link": true
    },
    "kernelspec": {
      "name": "python3",
      "display_name": "Python 3"
    },
    "language_info": {
      "name": "python"
    }
  },
  "cells": [
    {
      "cell_type": "markdown",
      "metadata": {
        "id": "view-in-github",
        "colab_type": "text"
      },
      "source": [
        "<a href=\"https://colab.research.google.com/github/PEDRODEON7/Aula01/blob/main/Execicio.ipynb\" target=\"_parent\"><img src=\"https://colab.research.google.com/assets/colab-badge.svg\" alt=\"Open In Colab\"/></a>"
      ]
    },
    {
      "cell_type": "code",
      "execution_count": null,
      "metadata": {
        "colab": {
          "base_uri": "https://localhost:8080/"
        },
        "id": "4Uz02vHXQwJp",
        "outputId": "62ea191f-b283-4c58-efa8-574405f9e026"
      },
      "outputs": [
        {
          "output_type": "stream",
          "name": "stdout",
          "text": [
            "[200, 'null', 720, 1500, 1000, 275, 'null', 1200, 2400, 'null']\n",
            "['null', 30, 40, 30, 10, 25, 33, 'null', 12, 20]\n",
            "[20, 20, 'null', 50, 100, 'null', 30, 100, 200, 10]\n"
          ]
        }
      ],
      "source": [
        "#a = b. h\n",
        "#area = largura * altura\n",
        "area = [200,'null',720,1500,1000,275,'null',1200,2400,'null']\n",
        "altura = ['null',30,40,30,10,25,33,'null',12,20]\n",
        "largura = [20,20,'null',50,100,'null',30,100,200,10]\n",
        "\n",
        "def prenche (a, b, h):\n",
        "  area_full = []\n",
        "  altura_full = []\n",
        "  largura_full = []\n",
        "  for area, altura, largura in zip(a, b, h):\n",
        "    if type(area) != int:\n",
        "      area_full.append(int(largura*altura))\n",
        "    else:\n",
        "      area_full.append(area)\n",
        "    if type(largura) != int:\n",
        "      largura_full.append(int(area/altura))\n",
        "    else:\n",
        "      largura_full.append(largura)\n",
        "    if type(altura) != int:\n",
        "      altura_full.append(int(area/largura))\n",
        "    else:\n",
        "      altura_full.append(altura)\n",
        "  return (area_full, altura_full, largura_full)\n",
        "\n",
        "\n",
        "  (area, altura, largura) = prenche (area, altura, largura)\n",
        "\n",
        "print(area)\n",
        "print(altura)\n",
        "print(largura)\n",
        "\n"
      ]
    },
    {
      "cell_type": "code",
      "source": [],
      "metadata": {
        "id": "hczneKKSW2kh"
      },
      "execution_count": null,
      "outputs": []
    },
    {
      "cell_type": "code",
      "source": [
        "def prenche (a, b, h):\n",
        "  area_full = []\n",
        "  altura_full = []\n",
        "  largura_full = []\n",
        "  for area, altura, largura in zip(a, b, h):\n",
        "    if type(area) != int:\n",
        "      area_full.append(int(largura*altura))\n",
        "    else:\n",
        "      area_full.append(area)\n",
        "    if type(largura) != int:\n",
        "      largura_full.append(int(area/altura))\n",
        "    else:\n",
        "      largura_full.append(largura)\n",
        "    if type(altura) != int:\n",
        "      altura_full.append(int(area/largura))\n",
        "    else:\n",
        "      altura_full.append(altura)\n",
        "  return (area_full, altura_full, largura_full)\n",
        "\n",
        "\n",
        "(area, altura, largura) = prenche(area, altura, largura)\n",
        "\n",
        "print(area)\n",
        "print(altura)\n",
        "print(largura)"
      ],
      "metadata": {
        "colab": {
          "base_uri": "https://localhost:8080/"
        },
        "id": "kSpLX3TU_CBe",
        "outputId": "8160989d-e1d3-454b-f4a5-0d83c61b3731"
      },
      "execution_count": null,
      "outputs": [
        {
          "output_type": "stream",
          "name": "stdout",
          "text": [
            "[200, 600, 720, 1500, 1000, 275, 990, 1200, 2400, 200]\n",
            "[10, 30, 40, 30, 10, 25, 33, 12, 12, 20]\n",
            "[20, 20, 18, 50, 100, 11, 30, 100, 200, 10]\n"
          ]
        }
      ]
    },
    {
      "cell_type": "code",
      "source": [
        "print(sum(altura)/len(altura))\n",
        "print(sum(largura)/len(largura))"
      ],
      "metadata": {
        "colab": {
          "base_uri": "https://localhost:8080/"
        },
        "id": "aGwFURCYW4eG",
        "outputId": "7d22121e-f006-43d5-f7d2-5100abe4262e"
      },
      "execution_count": null,
      "outputs": [
        {
          "output_type": "stream",
          "name": "stdout",
          "text": [
            "22.2\n",
            "55.9\n"
          ]
        }
      ]
    },
    {
      "cell_type": "code",
      "source": [
        "print('Metragem total ', sum(area),'media total dos terrenos', sum(area)/len(area))"
      ],
      "metadata": {
        "id": "cuJXurBKYTFF"
      },
      "execution_count": null,
      "outputs": []
    },
    {
      "cell_type": "markdown",
      "source": [
        "exercio numero dos "
      ],
      "metadata": {
        "id": "uQHibVPo581u"
      }
    },
    {
      "cell_type": "code",
      "source": [
        "from prompt_toolkit.filters.cli import completion_is_selected\n",
        "\n",
        "usuarios = [{'nome':'Peter','nota':9,'genero':'M','comentario':'bom demais e agil'}, \n",
        "                     {'nome':'Joao','nota':10,'genero':'M','comentario':'agil e eficiente'}, \n",
        "                     {'nome':'user_not_found','nota':0,'genero':'M','comentario':'Horrível'},\n",
        "                     {'nome':'Marta','nota':10,'genero':'F','comentario':'muito agil bom demais'}, \n",
        "                     {'nome':'Beatriz','nota':10,'genero':'F','comentario':'rápido e eficaz'},\n",
        "                     {'nome':'user_not_found','nota':2,'genero':'M','comentario':'ruim'},\n",
        "                     {'nome':'Jéssica','nota':10,'genero':'F','comentario':'agil'}, \n",
        "                     {'nome':'José','nota':7,'genero':'M','comentario':'ok'}, \n",
        "                     {'nome':'Elias','nota':5,'genero':'M','comentario':'precisa melhorar'},\n",
        "                     {'nome':'Miriã','nota':9,'genero':'F','comentario':'foi muito agil e rápido'},\n",
        "                     {'nome':'Maria','nota':10,'genero':'F','comentario':'muito bom e agil'}]\n",
        "\n",
        "def teste (comet):\n",
        "  comet1 = []\n",
        "  for user in comet:\n",
        "    comet1.extend(user['comentario'].split())\n",
        "    uniqword = sorted(set(comet1))\n",
        "  for word in uniqword:\n",
        "    print(comet1.count(word), word)\n",
        "\n",
        "teste(usuarios)\n",
        "\n",
        "\n",
        "\n",
        "\n"
      ],
      "metadata": {
        "id": "_GmYqgvQ5_-j",
        "colab": {
          "base_uri": "https://localhost:8080/"
        },
        "outputId": "64b0d6fb-3cde-4064-a456-2dcf93957dd1"
      },
      "execution_count": null,
      "outputs": [
        {
          "output_type": "stream",
          "name": "stdout",
          "text": [
            "1 Horrível\n",
            "6 agil\n",
            "3 bom\n",
            "2 demais\n",
            "5 e\n",
            "1 eficaz\n",
            "1 eficiente\n",
            "1 foi\n",
            "1 melhorar\n",
            "3 muito\n",
            "1 ok\n",
            "1 precisa\n",
            "1 ruim\n",
            "2 rápido\n"
          ]
        }
      ]
    },
    {
      "cell_type": "code",
      "source": [
        "def teste (comet):\n",
        "  comet1 = []\n",
        "  for user in comet:\n",
        "    comet1.extend(user['comentario'].split())\n",
        "    uniqword = sorted(set(comet1))\n",
        "  for word in uniqword:\n",
        "    if word != 'e':\n",
        "      print(comet1.count(word), word)\n",
        "      \n",
        "\n",
        "teste(usuarios)"
      ],
      "metadata": {
        "id": "jiYUD6nrDNIU"
      },
      "execution_count": null,
      "outputs": []
    },
    {
      "cell_type": "code",
      "source": [],
      "metadata": {
        "id": "IAY01nCEr0ql"
      },
      "execution_count": null,
      "outputs": []
    },
    {
      "cell_type": "code",
      "source": [
        "def nota(comet):\n",
        "  m = []\n",
        "  h = []\n",
        "  for a in comet:\n",
        "    if a['genero'] == 'M':\n",
        "      m.append(a['nota'])\n",
        "    elif a['genero']== 'F':\n",
        "      h.append(a['nota'])\n",
        "\n",
        "  print('Media masculina = ', sum(m)/len(m), 'Media Feminina = ', sum(h)/len(h))\n",
        "  return m,h\n",
        "masc, fem = nota(usuarios)\n",
        "print(masc, fem)"
      ],
      "metadata": {
        "id": "cQSC2JAfW6sI"
      },
      "execution_count": null,
      "outputs": []
    },
    {
      "cell_type": "code",
      "source": [
        "user_null = []\n",
        "\n",
        "for a in usuarios:\n",
        "  if a['nome'] == 'user_not_found':\n",
        "    print(a)\n",
        "    user_null.append(a)\n",
        "\n",
        "print(len(user_null))"
      ],
      "metadata": {
        "id": "EMRbH7mjbQuw"
      },
      "execution_count": null,
      "outputs": []
    },
    {
      "cell_type": "markdown",
      "source": [
        "exercicio 3"
      ],
      "metadata": {
        "id": "WvWSwkjBcbCP"
      }
    },
    {
      "cell_type": "code",
      "source": [
        "treinamentos = [{'treinamento':'Scrum','moedas':30}, \n",
        "                {'treinamento':'Data Science','moedas':40}, \n",
        "                {'treinamento':'Gestão de Projetos','moedas':50},\n",
        "                {'treinamento':'Marketing','moedas':30}, \n",
        "                {'treinamento':'Cloud','moedas':20},\n",
        "                {'treinamento':'Blockchain','moedas':10}, \n",
        "                {'treinamento':'Python','moedas':30}] \n",
        "\n",
        "pedidos = ['Scrum','Data Science','Gestão de Projetos','Marketing','Cloud','Python',\n",
        "            'Python','Python', 'Scrum','Data Science','Gestão de Projetos',\n",
        "            'Marketing','Data Science','Gestão de Projetos', \n",
        "            'Python','Marketing','Data Science','Gestão de Projetos',\n",
        "            'Data Science','Gestão de Projetos','Data Science']"
      ],
      "metadata": {
        "id": "42-7s9fWpjpp"
      },
      "execution_count": null,
      "outputs": []
    },
    {
      "cell_type": "code",
      "source": [
        "def get_value (x,b):\n",
        "  for a in x:\n",
        "    if a['treinamento'] in b:\n",
        "      print('valor', a['moedas'])\n",
        "      return a['moedas']\n",
        "\n",
        "ped = sorted(set(pedidos))\n",
        "for a in ped:\n",
        "  print('Solicitações', pedidos.count(a),'\\nteinamento',a)\n",
        "  valor = get_value(treinamentos,a)\n",
        "  for b in treinamentos:\n",
        "    b['total_pedidos']=pedidos.count(a)"
      ],
      "metadata": {
        "colab": {
          "base_uri": "https://localhost:8080/"
        },
        "id": "32Sb0dmGr2hy",
        "outputId": "d342b2c1-e1b1-4f3a-86b3-76aed579e30d"
      },
      "execution_count": null,
      "outputs": [
        {
          "output_type": "stream",
          "name": "stdout",
          "text": [
            "Solicitações 1 \n",
            "teinamento Cloud\n",
            "valor 20\n",
            "Solicitações 6 \n",
            "teinamento Data Science\n",
            "valor 40\n",
            "Solicitações 5 \n",
            "teinamento Gestão de Projetos\n",
            "valor 50\n",
            "Solicitações 3 \n",
            "teinamento Marketing\n",
            "valor 30\n",
            "Solicitações 4 \n",
            "teinamento Python\n",
            "valor 30\n",
            "Solicitações 2 \n",
            "teinamento Scrum\n",
            "valor 30\n"
          ]
        }
      ]
    },
    {
      "cell_type": "code",
      "source": [
        "treinamentos"
      ],
      "metadata": {
        "colab": {
          "base_uri": "https://localhost:8080/"
        },
        "id": "qGUBSsnxsigo",
        "outputId": "9b3eb4a1-1b6a-4565-de38-56fdc5c03b1b"
      },
      "execution_count": null,
      "outputs": [
        {
          "output_type": "execute_result",
          "data": {
            "text/plain": [
              "[{'treinamento': 'Scrum', 'moedas': 30, 'total_pedidos': 2},\n",
              " {'treinamento': 'Data Science', 'moedas': 40, 'total_pedidos': 2},\n",
              " {'treinamento': 'Gestão de Projetos', 'moedas': 50, 'total_pedidos': 2},\n",
              " {'treinamento': 'Marketing', 'moedas': 30, 'total_pedidos': 2},\n",
              " {'treinamento': 'Cloud', 'moedas': 20, 'total_pedidos': 2},\n",
              " {'treinamento': 'Blockchain', 'moedas': 10, 'total_pedidos': 2},\n",
              " {'treinamento': 'Python', 'moedas': 30, 'total_pedidos': 2}]"
            ]
          },
          "metadata": {},
          "execution_count": 13
        }
      ]
    },
    {
      "cell_type": "code",
      "source": [
        "budget = 150\n",
        "count = 6\n",
        "total = []\n",
        "while budget > 0:\n",
        "  for a in treinamentos:\n",
        "    qtd = a.get('total_pedidos',0)\n",
        "    if qtd == count:\n",
        "      print('treinamento',['trinamento'], 'comprado')\n",
        "      total.append(qtd)\n",
        "      budget = budget - a['moedas']\n",
        "      count = count - 1\n",
        "  else:\n",
        "    continue\n",
        "print('total de pedidos atendidos',sum(total),'Representando', sum(total)/len(pedidos), '% de atendimentos', '\\n budget no caixa')\n"
      ],
      "metadata": {
        "id": "zmZF5yyWZU9x"
      },
      "execution_count": null,
      "outputs": []
    },
    {
      "cell_type": "code",
      "source": [
        "dicionario = {'a':5, 'b':8.2, 'c':9, 'd':3, 'e': 100, 'f': 101, 'g': 210, 'h':12000, 'i':10000, 'j':1000000, 'k':-10**1000, 'l':-1000000}\n",
        "valores = dicionario.values()\n",
        "\n",
        "max_val = max(valores)\n",
        "min_val = min(valores)\n",
        "\n",
        "print(\"Máximo:\", max_val)\n",
        "print(\"Mínimo:\", min_val)"
      ],
      "metadata": {
        "colab": {
          "base_uri": "https://localhost:8080/"
        },
        "id": "hA179eOwP2lh",
        "outputId": "f2aac1b0-943b-42f0-d780-8cc435dd4c79"
      },
      "execution_count": null,
      "outputs": [
        {
          "output_type": "stream",
          "name": "stdout",
          "text": [
            "Máximo: 1000000\n",
            "Mínimo: -10000000000000000000000000000000000000000000000000000000000000000000000000000000000000000000000000000000000000000000000000000000000000000000000000000000000000000000000000000000000000000000000000000000000000000000000000000000000000000000000000000000000000000000000000000000000000000000000000000000000000000000000000000000000000000000000000000000000000000000000000000000000000000000000000000000000000000000000000000000000000000000000000000000000000000000000000000000000000000000000000000000000000000000000000000000000000000000000000000000000000000000000000000000000000000000000000000000000000000000000000000000000000000000000000000000000000000000000000000000000000000000000000000000000000000000000000000000000000000000000000000000000000000000000000000000000000000000000000000000000000000000000000000000000000000000000000000000000000000000000000000000000000000000000000000000000000000000000000000000000000000000000000000000000000000000000000000000000000000000000000000000000000000000000000000000000000000\n"
          ]
        }
      ]
    }
  ]
}